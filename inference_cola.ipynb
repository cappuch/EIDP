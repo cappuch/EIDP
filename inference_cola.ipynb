{
  "nbformat": 4,
  "nbformat_minor": 0,
  "metadata": {
    "colab": {
      "provenance": [],
      "toc_visible": true,
      "gpuType": "T4"
    },
    "kernelspec": {
      "name": "python3",
      "display_name": "Python 3"
    },
    "language_info": {
      "name": "python"
    },
    "accelerator": "GPU"
  },
  "cells": [
    {
      "cell_type": "code",
      "execution_count": null,
      "metadata": {
        "id": "4GqG_omidPRb"
      },
      "outputs": [],
      "source": [
        "!rm -rf EIDP\n",
        "!git clone https://github.com/open-sdetenn/EIDP.git\n",
        "!mv EIDP/* /content/\n",
        "!wget https://huggingface.co/opensdetenn/resnet18_linear_v1-optimal/resolve/main/pytorch_model.pth"
      ]
    },
    {
      "cell_type": "code",
      "source": [
        "!python3 infer.py"
      ],
      "metadata": {
        "id": "gQkIqM31e0ja"
      },
      "execution_count": null,
      "outputs": []
    }
  ]
}